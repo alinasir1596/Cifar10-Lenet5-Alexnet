{
 "cells": [
  {
   "cell_type": "code",
   "execution_count": 1,
   "metadata": {
    "id": "x4f_lwUS2teN"
   },
   "outputs": [],
   "source": [
    "import tensorflow as tf\n",
    "import numpy as np\n",
    "import matplotlib.pyplot as plt\n",
    "import pandas as pd\n",
    "from sklearn import metrics"
   ]
  },
  {
   "cell_type": "code",
   "execution_count": 24,
   "metadata": {
    "colab": {
     "base_uri": "https://localhost:8080/"
    },
    "id": "8zcmeDMSJAa5",
    "outputId": "654316b6-2027-4584-b661-816d08ef0501"
   },
   "outputs": [
    {
     "name": "stdout",
     "output_type": "stream",
     "text": [
      "Model: \"sequential_5\"\n",
      "_________________________________________________________________\n",
      " Layer (type)                Output Shape              Param #   \n",
      "=================================================================\n",
      " ConvolutionalLayer1 (Conv2D  (None, 32, 32, 6)        456       \n",
      " )                                                               \n",
      "                                                                 \n",
      " AveragePooling1 (AveragePoo  (None, 16, 16, 6)        0         \n",
      " ling2D)                                                         \n",
      "                                                                 \n",
      " ConvolutionalLayer2 (Conv2D  (None, 12, 12, 16)       2416      \n",
      " )                                                               \n",
      "                                                                 \n",
      " AveragePooling2 (AveragePoo  (None, 6, 6, 16)         0         \n",
      " ling2D)                                                         \n",
      "                                                                 \n",
      " Input (Flatten)             (None, 576)               0         \n",
      "                                                                 \n",
      " HiddenLayer1 (Dense)        (None, 120)               69240     \n",
      "                                                                 \n",
      " HiddenLayer2 (Dense)        (None, 84)                10164     \n",
      "                                                                 \n",
      " Output (Dense)              (None, 10)                850       \n",
      "                                                                 \n",
      "=================================================================\n",
      "Total params: 83,126\n",
      "Trainable params: 83,126\n",
      "Non-trainable params: 0\n",
      "_________________________________________________________________\n"
     ]
    }
   ],
   "source": [
    "lenet5model = tf.keras.Sequential()\n",
    "lenet5model.add(tf.keras.Input(shape=(32,32,3)))\n",
    "lenet5model.add(tf.keras.layers.Conv2D(6, kernel_size=(5, 5), activation='tanh', padding=\"same\", name=\"ConvolutionalLayer1\"))\n",
    "lenet5model.add(tf.keras.layers.AveragePooling2D(pool_size=(2,2), strides=2, name=\"AveragePooling1\"))\n",
    "lenet5model.add(tf.keras.layers.Conv2D(16,kernel_size=(5, 5), activation='tanh', name=\"ConvolutionalLayer2\"))\n",
    "lenet5model.add(tf.keras.layers.AveragePooling2D(pool_size=(2,2), strides=2, name=\"AveragePooling2\"))\n",
    "lenet5model.add(tf.keras.layers.Flatten(name=\"Input\"))\n",
    "lenet5model.add(tf.keras.layers.Dense(units=120, activation='tanh', name=\"HiddenLayer1\"))\n",
    "lenet5model.add(tf.keras.layers.Dense(units=84, activation='tanh', name=\"HiddenLayer2\"))\n",
    "lenet5model.add(tf.keras.layers.Dense(units=10, activation = 'softmax', name=\"Output\"))\n",
    "lenet5model.summary()"
   ]
  },
  {
   "cell_type": "code",
   "execution_count": 43,
   "metadata": {
    "colab": {
     "base_uri": "https://localhost:8080/"
    },
    "id": "WMHhFxCAJOMl",
    "outputId": "8082e0b8-fc39-41ca-e92d-4a14e2bae734"
   },
   "outputs": [
    {
     "name": "stdout",
     "output_type": "stream",
     "text": [
      "Epoch 1/5\n",
      "1600/1600 [==============================] - 6s 4ms/step - loss: 0.4722 - accuracy: 0.8324 - val_loss: 2.2552 - val_accuracy: 0.4947\n",
      "Epoch 2/5\n",
      "1600/1600 [==============================] - 5s 3ms/step - loss: 0.4161 - accuracy: 0.8536 - val_loss: 2.2610 - val_accuracy: 0.4942\n",
      "Epoch 3/5\n",
      "1600/1600 [==============================] - 6s 4ms/step - loss: 0.4637 - accuracy: 0.8360 - val_loss: 2.2584 - val_accuracy: 0.4964\n",
      "Epoch 4/5\n",
      "1600/1600 [==============================] - 5s 3ms/step - loss: 0.4304 - accuracy: 0.8486 - val_loss: 2.2582 - val_accuracy: 0.4951\n",
      "Epoch 5/5\n",
      "1600/1600 [==============================] - 5s 3ms/step - loss: 0.4354 - accuracy: 0.8477 - val_loss: 2.2517 - val_accuracy: 0.4962\n"
     ]
    }
   ],
   "source": [
    "lenet5cifar10model.compile(optimizer=\"adam\", loss=\"sparse_categorical_crossentropy\", metrics=[\"accuracy\"])\n",
    "c = lenet5cifar10model.fit(x_train,y_train,batch_size=25,epochs=5, validation_split=0.2)"
   ]
  },
  {
   "cell_type": "markdown",
   "metadata": {
    "id": "xXONCEh9iJuW"
   },
   "source": [
    "Training Accuracy = 84.77%"
   ]
  },
  {
   "cell_type": "code",
   "execution_count": 44,
   "metadata": {
    "colab": {
     "base_uri": "https://localhost:8080/",
     "height": 573
    },
    "id": "tVTWWE_TJ63r",
    "outputId": "11ca31fd-2c88-4b79-99c8-e0ddcfbf65f2"
   },
   "outputs": [
    {
     "data": {
      "image/png": "[encoded data removed]",
      "text/plain": [
       "<Figure size 432x288 with 1 Axes>"
      ]
     },
     "metadata": {
      "needs_background": "light"
     },
     "output_type": "display_data"
    },
    {
     "data": {
      "image/png": "[encoded data removed]",
      "text/plain": [
       "<Figure size 432x288 with 1 Axes>"
      ]
     },
     "metadata": {
      "needs_background": "light"
     },
     "output_type": "display_data"
    }
   ],
   "source": [
    "# Plotting and Visualising\n",
    "\n",
    "lenet5cifar10acc = c.history[\"accuracy\"]\n",
    "lenet5cifar10val_acc = c.history[\"val_accuracy\"]\n",
    "lenet5cifar10lss = c.history[\"loss\"]\n",
    "lenet5cifar10val_lss = c.history[\"val_loss\"]\n",
    "epochs_list = [1,2,3,4,5]\n",
    "\n",
    "#Accuracy Plot\n",
    "plt.plot(epochs_list, lenet5cifar10acc, 'blue', label='Training Accuracy')\n",
    "plt.plot(epochs_list, lenet5cifar10val_acc, 'red', label='Validation Accuracy')\n",
    "plt.xlabel('Epochs')\n",
    "plt.ylabel('Accuracy')\n",
    "plt.title('Accuracy curve with Epochs')\n",
    "plt.legend()\n",
    "plt.show()\n",
    "\n",
    "#Loss PLot\n",
    "plt.plot(epochs_list, lenet5cifar10lss, 'green', label=\"Loss\")\n",
    "plt.plot(epochs_list, lenet5cifar10val_lss, 'purple', label=\"Validation Loss\")\n",
    "plt.xlabel('Epochs')\n",
    "plt.ylabel('Loss')\n",
    "plt.title('Loss curve with Epochs')\n",
    "plt.legend()\n",
    "plt.show()"
   ]
  },
  {
   "cell_type": "markdown",
   "metadata": {
    "id": "Ea5IPvnbnFoA"
   },
   "source": [
    "This is the case of Overfitting"
   ]
  },
  {
   "cell_type": "code",
   "execution_count": 45,
   "metadata": {
    "colab": {
     "base_uri": "https://localhost:8080/"
    },
    "id": "6eOjmf8KKFjC",
    "outputId": "6cf67022-7df8-4eab-c2e5-756e98f6aa7f"
   },
   "outputs": [
    {
     "name": "stdout",
     "output_type": "stream",
     "text": [
      "313/313 [==============================] - 1s 3ms/step - loss: 2.2784 - accuracy: 0.4975\n"
     ]
    },
    {
     "data": {
      "text/plain": [
       "[2.2783970832824707, 0.4975000023841858]"
      ]
     },
     "execution_count": 45,
     "metadata": {},
     "output_type": "execute_result"
    }
   ],
   "source": [
    "lenet5cifar10model.evaluate(x_test,y_test)"
   ]
  },
  {
   "cell_type": "markdown",
   "metadata": {
    "id": "e0BMF8QviXgo"
   },
   "source": [
    "Testing Accuracy = 49.75%"
   ]
  },
  {
   "cell_type": "code",
   "execution_count": 28,
   "metadata": {
    "colab": {
     "base_uri": "https://localhost:8080/"
    },
    "id": "d5a-VCXFKTHy",
    "outputId": "e73d2485-82d3-4599-f5f9-03f2342646bb"
   },
   "outputs": [
    {
     "data": {
      "text/plain": [
       "array([[7.15701431e-02, 1.16217406e-02, 4.10088226e-02, ...,\n",
       "        1.12924865e-02, 4.78742905e-02, 2.15993933e-02],\n",
       "       [2.72238068e-02, 4.44986790e-01, 2.61230336e-04, ...,\n",
       "        1.61828375e-05, 4.71624613e-01, 5.54063693e-02],\n",
       "       [1.27683282e-02, 6.63994849e-02, 7.52096646e-04, ...,\n",
       "        7.13918198e-05, 8.80225599e-01, 3.79514284e-02],\n",
       "       ...,\n",
       "       [1.16090970e-02, 2.24852556e-04, 1.19801395e-01, ...,\n",
       "        3.64751406e-02, 1.06112203e-02, 1.78455212e-03],\n",
       "       [8.76838043e-02, 1.84335023e-01, 5.32812998e-02, ...,\n",
       "        5.85710742e-02, 1.19543239e-01, 2.94141900e-02],\n",
       "       [1.29867985e-03, 4.38923526e-05, 6.70546712e-03, ...,\n",
       "        3.65378112e-01, 7.35838476e-05, 3.94357776e-04]], dtype=float32)"
      ]
     },
     "execution_count": 28,
     "metadata": {},
     "output_type": "execute_result"
    }
   ],
   "source": [
    "y_pred_lenet5cifar10 = lenet5cifar10model.predict(x_test)\n",
    "y_pred_lenet5cifar10"
   ]
  },
  {
   "cell_type": "markdown",
   "metadata": {
    "id": "ZdGTto3vMQWp"
   },
   "source": [
    "**On CIFAR-10 dataset**\n",
    "\n",
    "Lenet-5 Architecture gives training accuracy (84.77%)\n"
   ]
  }
 ],
 "metadata": {
  "accelerator": "GPU",
  "colab": {
   "collapsed_sections": [],
   "name": "Week3.ipynb",
   "provenance": []
  },
  "gpuClass": "standard",
  "kernelspec": {
   "display_name": "Python 3 (ipykernel)",
   "language": "python",
   "name": "python3"
  },
  "language_info": {
   "codemirror_mode": {
    "name": "ipython",
    "version": 3
   },
   "file_extension": ".py",
   "mimetype": "text/x-python",
   "name": "python",
   "nbconvert_exporter": "python",
   "pygments_lexer": "ipython3",
   "version": "3.8.16"
  }
 },
 "nbformat": 4,
 "nbformat_minor": 1
}
